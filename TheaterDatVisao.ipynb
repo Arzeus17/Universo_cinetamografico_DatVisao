{
  "nbformat": 4,
  "nbformat_minor": 0,
  "metadata": {
    "colab": {
      "provenance": []
    },
    "kernelspec": {
      "name": "python3",
      "display_name": "Python 3"
    },
    "language_info": {
      "name": "python"
    }
  },
  "cells": [
    {
      "cell_type": "code",
      "execution_count": 1,
      "metadata": {
        "id": "77jj5yW9Di_I"
      },
      "outputs": [],
      "source": [
        "#Importing depending libraries to read csv files\n",
        "from pandas.io.parsers.readers import read_csv\n",
        "import sqlite3\n",
        "import pandas as pd"
      ]
    },
    {
      "cell_type": "code",
      "source": [
        "from google.colab import drive\n",
        "drive.mount('/content/drive')"
      ],
      "metadata": {
        "id": "0LVkwde8Er2O"
      },
      "execution_count": null,
      "outputs": []
    },
    {
      "cell_type": "code",
      "source": [
        "#importing csv to google colab\n",
        "from google.colab import files\n",
        "uploaded = files.upload()"
      ],
      "metadata": {
        "id": "o0Asq0pwFDjA"
      },
      "execution_count": null,
      "outputs": []
    },
    {
      "cell_type": "code",
      "source": [
        "#Reading the files uploades with the read csv methods\n",
        "df1 = pd.read_csv(\"theater.csv\")\n",
        "df2 = pd.read_csv(\"movies.csv\")\n",
        "df3 = pd.read_csv(\"movieshow.csv\")\n",
        "df4 = pd.read_csv(\"tickets.csv\")\n",
        "df5 = pd.read_csv(\"promotions.csv\")"
      ],
      "metadata": {
        "id": "hzqx7W0OFf0I"
      },
      "execution_count": 4,
      "outputs": []
    },
    {
      "cell_type": "code",
      "source": [
        "#Conneting a database\n",
        "conn = sqlite3.connect(\"theater.db\")"
      ],
      "metadata": {
        "id": "rOSTglLtFrwz"
      },
      "execution_count": 5,
      "outputs": []
    },
    {
      "cell_type": "code",
      "source": [
        "#Creating a cursor objectobject to point to the database\n",
        "cursor = conn.cursor()"
      ],
      "metadata": {
        "id": "vAMFBZw0F2Ov"
      },
      "execution_count": 6,
      "outputs": []
    },
    {
      "cell_type": "code",
      "source": [
        "#write the data to a sqlite table theater\n",
        "df1.to_sql('theater', conn, if_exists='append', index = False)"
      ],
      "metadata": {
        "id": "4U6XbQZkF45P"
      },
      "execution_count": null,
      "outputs": []
    },
    {
      "cell_type": "code",
      "source": [
        "#show table theater\n",
        "print(df1)"
      ],
      "metadata": {
        "id": "6-kufXoOGeQz"
      },
      "execution_count": null,
      "outputs": []
    },
    {
      "cell_type": "code",
      "source": [
        "\n",
        "conn.execute('''SELECT * FROM theater''').fetchall() \n"
      ],
      "metadata": {
        "id": "2U2uN6buGyc-"
      },
      "execution_count": null,
      "outputs": []
    },
    {
      "cell_type": "code",
      "source": [
        "#write the data to a sqlite table movies\n",
        "df2.to_sql('movies', conn, if_exists='append', index = False)"
      ],
      "metadata": {
        "id": "vQ3YLa5gISjZ"
      },
      "execution_count": null,
      "outputs": []
    },
    {
      "cell_type": "code",
      "source": [
        "#show table movies\n",
        "print(df2)"
      ],
      "metadata": {
        "id": "bHSQzouEvXlx"
      },
      "execution_count": null,
      "outputs": []
    },
    {
      "cell_type": "code",
      "source": [
        "conn.execute('''SELECT * FROM movies''').fetchall()"
      ],
      "metadata": {
        "id": "lZyzBxnJJaH3"
      },
      "execution_count": null,
      "outputs": []
    },
    {
      "cell_type": "code",
      "source": [
        "#write the data to a sqlite table movieshow\n",
        "df3.to_sql('movieshow', conn, if_exists='append', index = False)"
      ],
      "metadata": {
        "id": "N3IBLLnsJjK_"
      },
      "execution_count": null,
      "outputs": []
    },
    {
      "cell_type": "code",
      "source": [
        "#show table movieshow\n",
        "print(df3)"
      ],
      "metadata": {
        "id": "JGMto4_lvik6"
      },
      "execution_count": null,
      "outputs": []
    },
    {
      "cell_type": "code",
      "source": [
        "conn.execute('''SELECT * FROM movieshow''').fetchall()"
      ],
      "metadata": {
        "id": "dKyiy9HSJ4qu"
      },
      "execution_count": null,
      "outputs": []
    },
    {
      "cell_type": "code",
      "source": [
        "#write the data to a sqlite table tickets\n",
        "df4.to_sql('tickets', conn, if_exists='append', index = False)"
      ],
      "metadata": {
        "id": "M9vNrEptKSfX"
      },
      "execution_count": null,
      "outputs": []
    },
    {
      "cell_type": "code",
      "source": [
        "#show table tickets\n",
        "print(df4)"
      ],
      "metadata": {
        "id": "H5Ua6YR8wZ2c"
      },
      "execution_count": null,
      "outputs": []
    },
    {
      "cell_type": "code",
      "source": [
        "conn.execute('''SELECT * FROM tickets''').fetchall()"
      ],
      "metadata": {
        "id": "9cTYtHiIKZ5r"
      },
      "execution_count": null,
      "outputs": []
    },
    {
      "cell_type": "code",
      "source": [
        "#write the data to a sqlite table promotions\n",
        "df5.to_sql('promotions', conn, if_exists='append', index = False)"
      ],
      "metadata": {
        "id": "VOzTY0BQKkiW"
      },
      "execution_count": null,
      "outputs": []
    },
    {
      "cell_type": "code",
      "source": [
        "#show table promotions\n",
        "print(df5)"
      ],
      "metadata": {
        "id": "zw1PuO0owo2Q"
      },
      "execution_count": null,
      "outputs": []
    },
    {
      "cell_type": "code",
      "source": [
        "conn.execute('''SELECT * FROM promotions''').fetchall()"
      ],
      "metadata": {
        "id": "KMBSUW5HKt-k"
      },
      "execution_count": null,
      "outputs": []
    },
    {
      "cell_type": "code",
      "source": [
        "#join the table movieshow and theater\n",
        "cursor.execute('''SELECT * FROM movieshow s NATURAL JOIN theater''')\n",
        "dfst=cursor.fetchall()"
      ],
      "metadata": {
        "id": "btMna5mSK78V"
      },
      "execution_count": 22,
      "outputs": []
    },
    {
      "cell_type": "code",
      "source": [
        "print(dfst)"
      ],
      "metadata": {
        "id": "nQWf42zjm8I6"
      },
      "execution_count": null,
      "outputs": []
    },
    {
      "cell_type": "code",
      "source": [
        "dfst"
      ],
      "metadata": {
        "id": "8H-sIZsEHH-E"
      },
      "execution_count": null,
      "outputs": []
    },
    {
      "cell_type": "code",
      "source": [
        "#join the table movieshow and movies\n",
        "cursor.execute('''SELECT * FROM movieshow NATURAL JOIN movies''')\n",
        "dfsm=cursor.fetchall()"
      ],
      "metadata": {
        "id": "DJ85mywkP8nH"
      },
      "execution_count": 25,
      "outputs": []
    },
    {
      "cell_type": "code",
      "source": [
        "print(dfsm)"
      ],
      "metadata": {
        "id": "YdRDNvPZnvQO"
      },
      "execution_count": null,
      "outputs": []
    },
    {
      "cell_type": "code",
      "source": [
        "dfsm"
      ],
      "metadata": {
        "id": "JwZrIeCxu-Xx"
      },
      "execution_count": null,
      "outputs": []
    },
    {
      "cell_type": "code",
      "source": [
        "#join the table tickets and movieshow\n",
        "cursor.execute('''SELECT * FROM tickets NATURAL JOIN movieshow''')\n",
        "dfts=cursor.fetchall()"
      ],
      "metadata": {
        "id": "A1fSJqZORLRv"
      },
      "execution_count": 28,
      "outputs": []
    },
    {
      "cell_type": "code",
      "source": [
        "print(dfts)"
      ],
      "metadata": {
        "id": "0svXkoi4sa-f"
      },
      "execution_count": null,
      "outputs": []
    },
    {
      "cell_type": "code",
      "source": [
        "dfts"
      ],
      "metadata": {
        "id": "NNUNv7VuIaJe"
      },
      "execution_count": null,
      "outputs": []
    },
    {
      "cell_type": "code",
      "source": [
        "#join the table tickets and promotions\n",
        "cursor.execute('''SELECT * FROM tickets NATURAL JOIN promotions''')\n",
        "dftp=cursor.fetchall()"
      ],
      "metadata": {
        "id": "FDuuVslqR-c6"
      },
      "execution_count": 33,
      "outputs": []
    },
    {
      "cell_type": "code",
      "source": [
        "print(dftp)"
      ],
      "metadata": {
        "id": "iPiHKxQboZZ_"
      },
      "execution_count": null,
      "outputs": []
    },
    {
      "cell_type": "code",
      "source": [
        "dftp"
      ],
      "metadata": {
        "id": "Tn56LxsPIwcA"
      },
      "execution_count": null,
      "outputs": []
    },
    {
      "cell_type": "code",
      "source": [
        "#update the prices of tickets purchased with a 30% discount\n",
        "cursor.execute(\"UPDATE tickets SET Price = Price - (Price * 0.3) WHERE PromoID=2\")"
      ],
      "metadata": {
        "id": "cMJ1xEWMPqP-"
      },
      "execution_count": null,
      "outputs": []
    },
    {
      "cell_type": "code",
      "source": [
        "conn.commit()"
      ],
      "metadata": {
        "id": "00UAh7ulQ7w2"
      },
      "execution_count": null,
      "outputs": []
    },
    {
      "cell_type": "code",
      "source": [
        "#Tickets purchased with the 30% discount\n",
        "cursor.execute(\"SELECT * FROM tickets WHERE PromoID=2\")\n",
        "promo2 = cursor.fetchall()\n",
        "print(promo2)"
      ],
      "metadata": {
        "id": "sggbsSvJRCgX"
      },
      "execution_count": null,
      "outputs": []
    },
    {
      "cell_type": "code",
      "source": [
        "promo2"
      ],
      "metadata": {
        "id": "HfnALq5WaMyb"
      },
      "execution_count": null,
      "outputs": []
    },
    {
      "cell_type": "code",
      "source": [
        "#update the prices of tickets purchased with a 50% discount\n",
        "cursor.execute(\"UPDATE tickets SET Price = Price - (Price * 0.5) WHERE PromoID=3\")"
      ],
      "metadata": {
        "id": "mc6CLijUayXV"
      },
      "execution_count": null,
      "outputs": []
    },
    {
      "cell_type": "code",
      "source": [
        "conn.commit()"
      ],
      "metadata": {
        "id": "nABvuBUcazP4"
      },
      "execution_count": null,
      "outputs": []
    },
    {
      "cell_type": "code",
      "source": [
        "#tickets purchased with the 50% discount\n",
        "cursor.execute(\"SELECT * FROM tickets WHERE PromoID=3\")\n",
        "promo3 = cursor.fetchall()\n",
        "print(promo3)"
      ],
      "metadata": {
        "id": "GRnoImrFazdx"
      },
      "execution_count": null,
      "outputs": []
    },
    {
      "cell_type": "code",
      "source": [
        "promo3"
      ],
      "metadata": {
        "id": "l4yhEldYbPDt"
      },
      "execution_count": null,
      "outputs": []
    },
    {
      "cell_type": "code",
      "source": [
        "#Times CREED III was shown\n",
        "cursor.execute(\"SELECT Title FROM movies LEFT JOIN movieshow ON movies.MovieID = movieshow.MovieID WHERE Title IS 'Creed III';\")\n",
        "creedshow = cursor.fetchall()\n",
        "print(creedshow)"
      ],
      "metadata": {
        "id": "QmJcLrZcjZo5"
      },
      "execution_count": null,
      "outputs": []
    },
    {
      "cell_type": "code",
      "source": [
        "#Times a movie was shown\n",
        "cursor.execute(\"SELECT Title, COUNT(MovieID) AS QTD FROM movies NATURAL JOIN movieshow GROUP BY Title HAVING COUNT(MovieID) > 1;\")\n",
        "titleshow = cursor.fetchall()\n",
        "print(titleshow)"
      ],
      "metadata": {
        "id": "qCX7W5Bp6O6j"
      },
      "execution_count": null,
      "outputs": []
    },
    {
      "cell_type": "code",
      "source": [
        "titleshow"
      ],
      "metadata": {
        "id": "NdxMk7Ig76f4"
      },
      "execution_count": null,
      "outputs": []
    },
    {
      "cell_type": "code",
      "source": [
        "#Total raised from ticket sales\n",
        "cursor.execute(\"SELECT SUM(Price) FROM tickets\")\n",
        "total = cursor.fetchall()\n",
        "print(total)"
      ],
      "metadata": {
        "id": "VOC5mQmOWuuJ"
      },
      "execution_count": null,
      "outputs": []
    },
    {
      "cell_type": "code",
      "source": [
        "#Total collected from ticket sales with 30% discount\n",
        "cursor.execute(\"SELECT SUM(Price - ((Price * 30) / 100)) FROM tickets WHERE PromoID=2\")\n",
        "totprom2 = cursor.fetchall()\n",
        "print(totprom2)"
      ],
      "metadata": {
        "id": "ESBXZKkRZIdM"
      },
      "execution_count": null,
      "outputs": []
    },
    {
      "cell_type": "code",
      "source": [
        "#Total collected from ticket sales with 50% discount\n",
        "cursor.execute(\"SELECT SUM(Price - ((Price * 50) / 100)) FROM tickets WHERE PromoID=3\")\n",
        "totprom3 = cursor.fetchall()\n",
        "print(totprom3)"
      ],
      "metadata": {
        "id": "j15YTGfRdb_Y"
      },
      "execution_count": null,
      "outputs": []
    },
    {
      "cell_type": "code",
      "source": [
        "#Total collected from ticket sales without discount\n",
        "cursor.execute(\"SELECT SUM(Price) FROM tickets WHERE PromoID=1\")\n",
        "totprom1 = cursor.fetchall()\n",
        "print(totprom1)"
      ],
      "metadata": {
        "id": "LBVDq_lcb3HI"
      },
      "execution_count": null,
      "outputs": []
    },
    {
      "cell_type": "code",
      "source": [
        "#What is the promo that sold the least?\n",
        "cursor.execute(\"SELECT Promo FROM promotions NATURAL JOIN tickets GROUP BY Promo ORDER BY COUNT(Promo) ASC LIMIT 1;\")\n",
        "tickpromo = cursor.fetchall()\n",
        "print(tickpromo)"
      ],
      "metadata": {
        "id": "UwjsSLKHMWp9"
      },
      "execution_count": null,
      "outputs": []
    },
    {
      "cell_type": "code",
      "source": [
        "#What is the least watched movie?\n",
        "cursor.execute(\"SELECT Title FROM movies NATURAL JOIN movieshow GROUP BY Title ORDER BY COUNT(Title) ASC LIMIT 1;\")\n",
        "titlevisto = cursor.fetchall()\n",
        "print(titlevisto)"
      ],
      "metadata": {
        "id": "3Azq248Yl4Gw"
      },
      "execution_count": null,
      "outputs": []
    },
    {
      "cell_type": "code",
      "source": [
        "#What is the most watched movie?\n",
        "cursor.execute(\"SELECT Title FROM movies NATURAL JOIN movieshow GROUP BY Title ORDER BY COUNT(Title) DESC LIMIT 1;\")\n",
        "titmaisvisto = cursor.fetchall()\n",
        "print(titmaisvisto)"
      ],
      "metadata": {
        "id": "grLqRx1GoMPc"
      },
      "execution_count": null,
      "outputs": []
    },
    {
      "cell_type": "code",
      "source": [
        "#Top three movies\n",
        "cursor.execute(\"SELECT Title FROM movies NATURAL JOIN movieshow GROUP BY Title ORDER BY COUNT(Title) DESC LIMIT 3;\")\n",
        "topmovies = cursor.fetchall()\n",
        "print(topmovies)"
      ],
      "metadata": {
        "id": "Auboczv4x5Jy"
      },
      "execution_count": null,
      "outputs": []
    },
    {
      "cell_type": "code",
      "source": [
        "#What is the preferred genre?\n",
        "cursor.execute(\"SELECT Category FROM movies NATURAL JOIN movieshow GROUP BY Category ORDER BY COUNT(Category) DESC LIMIT 2;\")\n",
        "category = cursor.fetchall()\n",
        "print(category)"
      ],
      "metadata": {
        "id": "1DI-5_k8rM24"
      },
      "execution_count": null,
      "outputs": []
    },
    {
      "cell_type": "code",
      "source": [
        "#What is the prefer time?\n",
        "cursor.execute(\"SELECT Time FROM movies NATURAL JOIN movieshow GROUP BY Time ORDER BY COUNT(Time) DESC LIMIT 1;\")\n",
        "time = cursor.fetchall()\n",
        "print(time)"
      ],
      "metadata": {
        "id": "AtqiLUaSy9WW"
      },
      "execution_count": null,
      "outputs": []
    },
    {
      "cell_type": "code",
      "source": [
        "#Number of movies by category\n",
        "cursor.execute(\"SELECT Category, COUNT(MovieID) AS QTD FROM movies NATURAL JOIN movieshow GROUP BY Category HAViNG COUNT(MovieID) > 1 ;\")\n",
        "catmov = cursor.fetchall()\n",
        "print(catmov)"
      ],
      "metadata": {
        "id": "FrxkdFJb1X3A"
      },
      "execution_count": null,
      "outputs": []
    },
    {
      "cell_type": "code",
      "source": [
        "catmov"
      ],
      "metadata": {
        "id": "Nbf9-Arr5TFV"
      },
      "execution_count": null,
      "outputs": []
    },
    {
      "cell_type": "code",
      "source": [
        "#What is the prefer movietheater?\n",
        "cursor.execute(\"SELECT ScreenType FROM theater NATURAL JOIN movieshow GROUP BY ScreenType ORDER BY COUNT(ScreenType) DESC LIMIT 4;\")\n",
        "scrtype = cursor.fetchall()\n",
        "print(scrtype)"
      ],
      "metadata": {
        "id": "AX4Xs10T_mTe"
      },
      "execution_count": null,
      "outputs": []
    },
    {
      "cell_type": "code",
      "source": [
        "cursor.close()\n",
        "conn.close()"
      ],
      "metadata": {
        "id": "8kLqhLKdZA24"
      },
      "execution_count": 39,
      "outputs": []
    }
  ]
}